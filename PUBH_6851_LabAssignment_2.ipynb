{
  "nbformat": 4,
  "nbformat_minor": 0,
  "metadata": {
    "colab": {
      "provenance": [],
      "authorship_tag": "ABX9TyP/kyNtZyFn151SKdrlYy5z",
      "include_colab_link": true
    },
    "kernelspec": {
      "name": "ir",
      "display_name": "R"
    },
    "language_info": {
      "name": "R"
    }
  },
  "cells": [
    {
      "cell_type": "markdown",
      "metadata": {
        "id": "view-in-github",
        "colab_type": "text"
      },
      "source": [
        "<a href=\"https://colab.research.google.com/github/ehsung/PUBH6851/blob/main/PUBH_6851_LabAssignment_2.ipynb\" target=\"_parent\"><img src=\"https://colab.research.google.com/assets/colab-badge.svg\" alt=\"Open In Colab\"/></a>"
      ]
    },
    {
      "cell_type": "markdown",
      "source": [
        "# PUBH_6851 - Lab Assignment 2\n",
        "\n",
        "# 10/9/24\n",
        "\n",
        "# Edward Sung"
      ],
      "metadata": {
        "id": "qGJh7VS8NGUN"
      }
    },
    {
      "cell_type": "markdown",
      "source": [
        "# Lab Assignment 2 Links:\n",
        "### Note: Requires GWU Blackboard login\n",
        "* https://alt-5fd21eff2f29a.blackboard.com/bbcswebdav/pid-14239507-dt-content-rid-132070964_2/courses/84362_202403/Lecture0201FlowControl.html?one_hash=F1CEFB42EB00F908609DE503E9659313&f_hash=7CD125A6A917D992300DFA4A5E109441\n",
        "* https://alt-5fd21eff2f29a.blackboard.com/bbcswebdav/pid-14239510-dt-content-rid-132070966_2/courses/84362_202403/Lecture0202UserDefinedFunctions.html?one_hash=4CE354B498A58C5CA298BD9DE1D1E0A4&f_hash=7CD125A6A917D992300DFA4A5E109441"
      ],
      "metadata": {
        "id": "eW4Sly3xNTIT"
      }
    },
    {
      "cell_type": "markdown",
      "source": [
        "# Table of Contents\n",
        "\n",
        ">[Flow Control](#updateTitle=true&folderId=1r-g8wJfeKaGd9a8yLWY3NoKaegmzbrzB&scrollTo=z1P3RCd8NpAU)\n",
        "\n",
        ">>[Section 1](#updateTitle=true&folderId=1r-g8wJfeKaGd9a8yLWY3NoKaegmzbrzB&scrollTo=0vUztbWlT3FQ)\n",
        "\n",
        ">[User Defined Functions](#updateTitle=true&folderId=1r-g8wJfeKaGd9a8yLWY3NoKaegmzbrzB&scrollTo=0wPDF6sFT8xj)\n",
        "\n",
        ">>[Section 1](#updateTitle=true&folderId=1r-g8wJfeKaGd9a8yLWY3NoKaegmzbrzB&scrollTo=antdYrLqQccJ)\n",
        "\n",
        ">>[Section 2](#updateTitle=true&folderId=1r-g8wJfeKaGd9a8yLWY3NoKaegmzbrzB&scrollTo=fbv187ttTz9J)\n",
        "\n",
        ">>[Section 3](#updateTitle=true&folderId=1r-g8wJfeKaGd9a8yLWY3NoKaegmzbrzB&scrollTo=By34BmQAU7ZU)\n",
        "\n"
      ],
      "metadata": {
        "colab_type": "toc",
        "id": "MgxGmmS_YVCy"
      }
    },
    {
      "cell_type": "markdown",
      "source": [
        "# Flow Control"
      ],
      "metadata": {
        "id": "z1P3RCd8NpAU"
      }
    },
    {
      "cell_type": "markdown",
      "source": [
        "## Section 1"
      ],
      "metadata": {
        "id": "0vUztbWlT3FQ"
      }
    },
    {
      "cell_type": "code",
      "source": [
        "lab_vector <- c(\"ARDS\", \"ARDS\", \"HPT\", \"HPT\", \"Diabetes\", \"Diabetes\", \"ARDS\",\"Diabetes\", \"HPT\", \"HPT\")\n",
        "\n",
        "# Counter variable\n",
        "n <- 0\n",
        "\n",
        "# Loop through lab_vector\n",
        "for (lab in lab_vector) {\n",
        "  if (lab == \"ARDS\") {\n",
        "    n <- n + 1\n",
        "  }\n",
        "}\n",
        "\n",
        "# Print n counter\n",
        "print(paste(\"ARDS appears\", n, \"times.\"))"
      ],
      "metadata": {
        "colab": {
          "base_uri": "https://localhost:8080/"
        },
        "id": "4jMoHITSOiGK",
        "outputId": "18c27220-c40b-40db-db4c-c048c903a8ed"
      },
      "execution_count": 18,
      "outputs": [
        {
          "output_type": "stream",
          "name": "stdout",
          "text": [
            "[1] \"ARDS appears 3 times.\"\n"
          ]
        }
      ]
    },
    {
      "cell_type": "markdown",
      "source": [
        "# User Defined Functions"
      ],
      "metadata": {
        "id": "0wPDF6sFT8xj"
      }
    },
    {
      "cell_type": "markdown",
      "source": [
        "## Section 1"
      ],
      "metadata": {
        "id": "antdYrLqQccJ"
      }
    },
    {
      "cell_type": "code",
      "source": [
        "difference_squared_func <- function(input_x, input_y) {\n",
        "  # Subtract two numeric values and squares the difference.\n",
        "\n",
        "  # Convert to numeric (for cases like \"2\" or \"10\", where numbers are strings)\n",
        "  x = suppressWarnings(as.numeric(input_x))\n",
        "  y = suppressWarnings(as.numeric(input_y))\n",
        "\n",
        "\n",
        "  # Check inputs are actually converted to numbers\n",
        "  # Will be converted to NA if it wasnt a number\n",
        "  if (is.na(x) && is.na(y)) {\n",
        "    print(\"First and Second inputs are not numeric!\")\n",
        "    return(NULL)\n",
        "  }\n",
        "\n",
        "  if (is.na(x)) {\n",
        "    print(\"First input is not numeric!\")\n",
        "    return(NULL)\n",
        "  }\n",
        "  if (is.na(y)) {\n",
        "    print(\"Second input is not numeric!\")\n",
        "    return(NULL)\n",
        "  }\n",
        "\n",
        "  # Difference\n",
        "  diff_value = x - y\n",
        "\n",
        "  # Square\n",
        "  square_diff = (diff_value)**2\n",
        "\n",
        "  return (square_diff)\n",
        "}\n",
        "\n",
        "# Examples\n",
        "difference_squared_func(\"a\", 2)\n",
        "difference_squared_func(6, \"b\")\n",
        "difference_squared_func(\"a\", \"b\")\n",
        "difference_squared_func(6, 2)\n",
        "difference_squared_func(\"9\", \"3\")\n",
        "difference_squared_func(9, \"3\")\n",
        "difference_squared_func(\"6\", 9)"
      ],
      "metadata": {
        "colab": {
          "base_uri": "https://localhost:8080/",
          "height": 194
        },
        "id": "l9PWRtdJQTIN",
        "outputId": "35a006c6-e5ba-434d-8900-22c84c0fa1ed"
      },
      "execution_count": 19,
      "outputs": [
        {
          "output_type": "stream",
          "name": "stdout",
          "text": [
            "[1] \"First input is not numeric!\"\n"
          ]
        },
        {
          "output_type": "display_data",
          "data": {
            "text/plain": [
              "NULL"
            ]
          },
          "metadata": {}
        },
        {
          "output_type": "stream",
          "name": "stdout",
          "text": [
            "[1] \"Second input is not numeric!\"\n"
          ]
        },
        {
          "output_type": "display_data",
          "data": {
            "text/plain": [
              "NULL"
            ]
          },
          "metadata": {}
        },
        {
          "output_type": "stream",
          "name": "stdout",
          "text": [
            "[1] \"First and Second inputs are not numeric!\"\n"
          ]
        },
        {
          "output_type": "display_data",
          "data": {
            "text/plain": [
              "NULL"
            ]
          },
          "metadata": {}
        },
        {
          "output_type": "display_data",
          "data": {
            "text/html": [
              "16"
            ],
            "text/markdown": "16",
            "text/latex": "16",
            "text/plain": [
              "[1] 16"
            ]
          },
          "metadata": {}
        },
        {
          "output_type": "display_data",
          "data": {
            "text/html": [
              "36"
            ],
            "text/markdown": "36",
            "text/latex": "36",
            "text/plain": [
              "[1] 36"
            ]
          },
          "metadata": {}
        },
        {
          "output_type": "display_data",
          "data": {
            "text/html": [
              "36"
            ],
            "text/markdown": "36",
            "text/latex": "36",
            "text/plain": [
              "[1] 36"
            ]
          },
          "metadata": {}
        },
        {
          "output_type": "display_data",
          "data": {
            "text/html": [
              "9"
            ],
            "text/markdown": "9",
            "text/latex": "9",
            "text/plain": [
              "[1] 9"
            ]
          },
          "metadata": {}
        }
      ]
    },
    {
      "cell_type": "markdown",
      "source": [
        "## Section 2"
      ],
      "metadata": {
        "id": "fbv187ttTz9J"
      }
    },
    {
      "cell_type": "code",
      "source": [
        "to_character_func <- function(input_value) {\n",
        "  # Convert the input to character type (string)\n",
        "\n",
        "  converted_character = as.character(input_value)\n",
        "  return(converted_character)\n",
        "}\n",
        "\n",
        "# Examples\n",
        "to_character_func(123)\n",
        "to_character_func(0)\n",
        "to_character_func(\"123\")\n",
        "to_character_func(\"aaa\")\n",
        "to_character_func(\"123aaa\")"
      ],
      "metadata": {
        "colab": {
          "base_uri": "https://localhost:8080/",
          "height": 104
        },
        "id": "mL4_UixvRDnz",
        "outputId": "c237537f-d4bd-44fe-caf5-625abeecb8a2"
      },
      "execution_count": 20,
      "outputs": [
        {
          "output_type": "display_data",
          "data": {
            "text/html": [
              "'123'"
            ],
            "text/markdown": "'123'",
            "text/latex": "'123'",
            "text/plain": [
              "[1] \"123\""
            ]
          },
          "metadata": {}
        },
        {
          "output_type": "display_data",
          "data": {
            "text/html": [
              "'0'"
            ],
            "text/markdown": "'0'",
            "text/latex": "'0'",
            "text/plain": [
              "[1] \"0\""
            ]
          },
          "metadata": {}
        },
        {
          "output_type": "display_data",
          "data": {
            "text/html": [
              "'123'"
            ],
            "text/markdown": "'123'",
            "text/latex": "'123'",
            "text/plain": [
              "[1] \"123\""
            ]
          },
          "metadata": {}
        },
        {
          "output_type": "display_data",
          "data": {
            "text/html": [
              "'aaa'"
            ],
            "text/markdown": "'aaa'",
            "text/latex": "'aaa'",
            "text/plain": [
              "[1] \"aaa\""
            ]
          },
          "metadata": {}
        },
        {
          "output_type": "display_data",
          "data": {
            "text/html": [
              "'123aaa'"
            ],
            "text/markdown": "'123aaa'",
            "text/latex": "'123aaa'",
            "text/plain": [
              "[1] \"123aaa\""
            ]
          },
          "metadata": {}
        }
      ]
    },
    {
      "cell_type": "markdown",
      "source": [
        "## Section 3"
      ],
      "metadata": {
        "id": "By34BmQAU7ZU"
      }
    },
    {
      "cell_type": "code",
      "source": [
        "calculate_mean_func <- function(input_vector) {\n",
        "  # Calculates the mean of a numerical vector\n",
        "\n",
        "  # Convert to numeric (for cases like \"2\" or \"10\", where numbers are strings)\n",
        "  num_vector <- suppressWarnings(as.numeric(input_vector))\n",
        "\n",
        "  # Check if the input is a numeric vector\n",
        "  if (any(is.na(num_vector))) {\n",
        "    print(\"Input vector is not all numeric!\")\n",
        "    return(NULL)\n",
        "  }\n",
        "\n",
        "  # Total sum and length of vector\n",
        "  vector_sum <- sum(num_vector)\n",
        "  vector_length <- length(num_vector)\n",
        "\n",
        "  # Calculate the mean of the vector\n",
        "  vector_mean <- vector_sum / vector_length\n",
        "\n",
        "  return(vector_mean)\n",
        "}\n",
        "\n",
        "# Examples\n",
        "calculate_mean_func(c(1, 2, 3, 4, 5))\n",
        "calculate_mean_func(c(1, \"2\", 3, 4, 5))\n",
        "calculate_mean_func(c(1, 2, \"c\", 4, 5))\n",
        "calculate_mean_func(c(\"a\", \"b\", \"c\", \"d\", \"e\"))"
      ],
      "metadata": {
        "colab": {
          "base_uri": "https://localhost:8080/",
          "height": 123
        },
        "id": "5RMlc1Y6TvYC",
        "outputId": "cace6ca3-317e-4e93-bcec-20682a2c4fba"
      },
      "execution_count": 21,
      "outputs": [
        {
          "output_type": "display_data",
          "data": {
            "text/html": [
              "3"
            ],
            "text/markdown": "3",
            "text/latex": "3",
            "text/plain": [
              "[1] 3"
            ]
          },
          "metadata": {}
        },
        {
          "output_type": "display_data",
          "data": {
            "text/html": [
              "3"
            ],
            "text/markdown": "3",
            "text/latex": "3",
            "text/plain": [
              "[1] 3"
            ]
          },
          "metadata": {}
        },
        {
          "output_type": "stream",
          "name": "stdout",
          "text": [
            "[1] \"Input vector is not all numeric!\"\n"
          ]
        },
        {
          "output_type": "display_data",
          "data": {
            "text/plain": [
              "NULL"
            ]
          },
          "metadata": {}
        },
        {
          "output_type": "stream",
          "name": "stdout",
          "text": [
            "[1] \"Input vector is not all numeric!\"\n"
          ]
        },
        {
          "output_type": "display_data",
          "data": {
            "text/plain": [
              "NULL"
            ]
          },
          "metadata": {}
        }
      ]
    }
  ]
}