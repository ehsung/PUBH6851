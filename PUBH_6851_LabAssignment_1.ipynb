{
  "nbformat": 4,
  "nbformat_minor": 0,
  "metadata": {
    "colab": {
      "provenance": []
    },
    "kernelspec": {
      "name": "ir",
      "display_name": "R"
    },
    "language_info": {
      "name": "R"
    }
  },
  "cells": [
    {
      "cell_type": "markdown",
      "source": [
        "# PUBH_6851 - Lab Assignment 1\n",
        "\n",
        "# 10/2/24\n",
        "\n",
        "# Edward Sung"
      ],
      "metadata": {
        "id": "UZXEqPMZq7dx"
      }
    },
    {
      "cell_type": "markdown",
      "source": [
        "# Lab Assignment 1 Link:\n",
        "### Note: Requires GWU Blackboard login\n",
        "https://alt-5fd21eff2f29a.blackboard.com/bbcswebdav/pid-14228859-dt-content-rid-131687207_2/courses/84362_202403/Lecture0101Introduction%281%29.html?one_hash=4C5C7E3B2A42F2F2D96FCD137749D3B7&f_hash=9C79412DD70B187A9880F915FAEBAC12#r-markdown-files-and-quarto-documents"
      ],
      "metadata": {
        "id": "davCVonN92rw"
      }
    },
    {
      "cell_type": "markdown",
      "source": [
        "## Table of Contents\n",
        "\n",
        ">[Section 1](#updateTitle=true&folderId=1r-g8wJfeKaGd9a8yLWY3NoKaegmzbrzB&scrollTo=kVvxUC5NrLwF)\n",
        "\n",
        ">[Section 2](#updateTitle=true&folderId=1r-g8wJfeKaGd9a8yLWY3NoKaegmzbrzB&scrollTo=mWnyGtG65JxW)\n",
        "\n",
        ">[Section 3](#updateTitle=true&folderId=1r-g8wJfeKaGd9a8yLWY3NoKaegmzbrzB&scrollTo=O6abm7kZ5uEw)\n",
        "\n",
        ">[Section 4](#updateTitle=true&folderId=1r-g8wJfeKaGd9a8yLWY3NoKaegmzbrzB&scrollTo=31k57Z3F7Q_y)\n",
        "\n",
        ">[Section 5](#updateTitle=true&folderId=1r-g8wJfeKaGd9a8yLWY3NoKaegmzbrzB&scrollTo=MuooJYga7jLX)\n",
        "\n"
      ],
      "metadata": {
        "colab_type": "toc",
        "id": "mns8OMKcDQen"
      }
    },
    {
      "cell_type": "markdown",
      "source": [
        "# Section 1"
      ],
      "metadata": {
        "id": "kVvxUC5NrLwF"
      }
    },
    {
      "cell_type": "code",
      "execution_count": null,
      "metadata": {
        "colab": {
          "base_uri": "https://localhost:8080/",
          "height": 34
        },
        "id": "NVv5NdRoq3bl",
        "outputId": "31007123-b6cd-4f5e-8cf2-2002819b8af2"
      },
      "outputs": [
        {
          "output_type": "display_data",
          "data": {
            "text/html": [
              "18.3846153846154"
            ],
            "text/markdown": "18.3846153846154",
            "text/latex": "18.3846153846154",
            "text/plain": [
              "[1] 18.38462"
            ]
          },
          "metadata": {}
        }
      ],
      "source": [
        "3 * 4 + 7 - 8 / 13"
      ]
    },
    {
      "cell_type": "code",
      "source": [
        "exp(-3)"
      ],
      "metadata": {
        "colab": {
          "base_uri": "https://localhost:8080/",
          "height": 34
        },
        "id": "LYrs4f2os0ED",
        "outputId": "252f4991-85cf-48ac-ae64-f96531b08c7f"
      },
      "execution_count": null,
      "outputs": [
        {
          "output_type": "display_data",
          "data": {
            "text/html": [
              "0.0497870683678639"
            ],
            "text/markdown": "0.0497870683678639",
            "text/latex": "0.0497870683678639",
            "text/plain": [
              "[1] 0.04978707"
            ]
          },
          "metadata": {}
        }
      ]
    },
    {
      "cell_type": "code",
      "source": [
        "100^(1/4)"
      ],
      "metadata": {
        "colab": {
          "base_uri": "https://localhost:8080/",
          "height": 34
        },
        "id": "vD8-MB_Ds7BV",
        "outputId": "67b8256a-88de-416c-afc4-eb73b27d0ee4"
      },
      "execution_count": null,
      "outputs": [
        {
          "output_type": "display_data",
          "data": {
            "text/html": [
              "3.16227766016838"
            ],
            "text/markdown": "3.16227766016838",
            "text/latex": "3.16227766016838",
            "text/plain": [
              "[1] 3.162278"
            ]
          },
          "metadata": {}
        }
      ]
    },
    {
      "cell_type": "code",
      "source": [
        "# R defaults to loge for log()\n",
        "log(15.8)"
      ],
      "metadata": {
        "colab": {
          "base_uri": "https://localhost:8080/",
          "height": 34
        },
        "id": "Wz3gNp9ds80i",
        "outputId": "65f0762d-e363-421b-efb5-8a019b55c9e8"
      },
      "execution_count": null,
      "outputs": [
        {
          "output_type": "display_data",
          "data": {
            "text/html": [
              "2.76000994003292"
            ],
            "text/markdown": "2.76000994003292",
            "text/latex": "2.76000994003292",
            "text/plain": [
              "[1] 2.76001"
            ]
          },
          "metadata": {}
        }
      ]
    },
    {
      "cell_type": "code",
      "source": [
        "sin(pi / 6)"
      ],
      "metadata": {
        "colab": {
          "base_uri": "https://localhost:8080/",
          "height": 34
        },
        "id": "5KSgQEm5tBOz",
        "outputId": "beab14e9-8de5-4146-c010-e29c1ec690f6"
      },
      "execution_count": null,
      "outputs": [
        {
          "output_type": "display_data",
          "data": {
            "text/html": [
              "0.5"
            ],
            "text/markdown": "0.5",
            "text/latex": "0.5",
            "text/plain": [
              "[1] 0.5"
            ]
          },
          "metadata": {}
        }
      ]
    },
    {
      "cell_type": "markdown",
      "source": [
        "# Section 2"
      ],
      "metadata": {
        "id": "mWnyGtG65JxW"
      }
    },
    {
      "cell_type": "code",
      "source": [
        "x = 2\n",
        "y = 2\n",
        "x + Y"
      ],
      "metadata": {
        "colab": {
          "base_uri": "https://localhost:8080/",
          "height": 72
        },
        "id": "cV-u_xZ85KgL",
        "outputId": "cb07340e-7336-4e75-ee36-57213f96be31"
      },
      "execution_count": null,
      "outputs": [
        {
          "output_type": "error",
          "ename": "ERROR",
          "evalue": "Error: object 'Y' not found\n",
          "traceback": [
            "Error: object 'Y' not found\nTraceback:\n"
          ]
        }
      ]
    },
    {
      "cell_type": "markdown",
      "source": [
        "This code block generates an error because the variable used is lower case y, while the expression uses upper case Y."
      ],
      "metadata": {
        "id": "MHCJjaOg5UXc"
      }
    },
    {
      "cell_type": "markdown",
      "source": [
        "# Section 3"
      ],
      "metadata": {
        "id": "O6abm7kZ5uEw"
      }
    },
    {
      "cell_type": "code",
      "source": [
        "seq(3, 21, by = 2)"
      ],
      "metadata": {
        "colab": {
          "base_uri": "https://localhost:8080/",
          "height": 34
        },
        "id": "o5qnFdG-5RPG",
        "outputId": "dbbfbdd3-cc35-4481-eeb4-48129dc6403b"
      },
      "execution_count": null,
      "outputs": [
        {
          "output_type": "display_data",
          "data": {
            "text/html": [
              "<style>\n",
              ".list-inline {list-style: none; margin:0; padding: 0}\n",
              ".list-inline>li {display: inline-block}\n",
              ".list-inline>li:not(:last-child)::after {content: \"\\00b7\"; padding: 0 .5ex}\n",
              "</style>\n",
              "<ol class=list-inline><li>3</li><li>5</li><li>7</li><li>9</li><li>11</li><li>13</li><li>15</li><li>17</li><li>19</li><li>21</li></ol>\n"
            ],
            "text/markdown": "1. 3\n2. 5\n3. 7\n4. 9\n5. 11\n6. 13\n7. 15\n8. 17\n9. 19\n10. 21\n\n\n",
            "text/latex": "\\begin{enumerate*}\n\\item 3\n\\item 5\n\\item 7\n\\item 9\n\\item 11\n\\item 13\n\\item 15\n\\item 17\n\\item 19\n\\item 21\n\\end{enumerate*}\n",
            "text/plain": [
              " [1]  3  5  7  9 11 13 15 17 19 21"
            ]
          },
          "metadata": {}
        }
      ]
    },
    {
      "cell_type": "markdown",
      "source": [
        "# Section 4"
      ],
      "metadata": {
        "id": "31k57Z3F7Q_y"
      }
    },
    {
      "cell_type": "code",
      "source": [
        "lab_vector <- c(3, 6, 3.141592654, 3 + 4i)\n",
        "print(lab_vector)\n",
        "\n",
        "for (i in lab_vector) {\n",
        "  print(paste(\"Is\", i, \"a numeric?\", is.numeric(i)))\n",
        "}\n",
        "\n",
        "is.numeric(lab_vector)"
      ],
      "metadata": {
        "colab": {
          "base_uri": "https://localhost:8080/",
          "height": 121
        },
        "id": "iwCzYvNc6Qer",
        "outputId": "246e331b-e480-49f3-c574-d2251687d16e"
      },
      "execution_count": null,
      "outputs": [
        {
          "output_type": "stream",
          "name": "stdout",
          "text": [
            "[1] 3.000000+0i 6.000000+0i 3.141593+0i 3.000000+4i\n",
            "[1] \"Is 3+0i a numeric? FALSE\"\n",
            "[1] \"Is 6+0i a numeric? FALSE\"\n",
            "[1] \"Is 3.141592654+0i a numeric? FALSE\"\n",
            "[1] \"Is 3+4i a numeric? FALSE\"\n"
          ]
        },
        {
          "output_type": "display_data",
          "data": {
            "text/html": [
              "FALSE"
            ],
            "text/markdown": "FALSE",
            "text/latex": "FALSE",
            "text/plain": [
              "[1] FALSE"
            ]
          },
          "metadata": {}
        }
      ]
    },
    {
      "cell_type": "markdown",
      "source": [
        "`lab_vector` itself is also not numeric."
      ],
      "metadata": {
        "id": "Q5r-4Hb77dEI"
      }
    },
    {
      "cell_type": "code",
      "source": [
        "print(paste(lab_vector[4], \"is\", class(lab_vector[4])))"
      ],
      "metadata": {
        "colab": {
          "base_uri": "https://localhost:8080/"
        },
        "id": "PKtpQL1I7qwX",
        "outputId": "bb6cf745-f667-4286-c1ae-78c4a0895f1b"
      },
      "execution_count": null,
      "outputs": [
        {
          "output_type": "stream",
          "name": "stdout",
          "text": [
            "[1] \"3+4i is complex\"\n"
          ]
        }
      ]
    },
    {
      "cell_type": "markdown",
      "source": [
        "# Section 5"
      ],
      "metadata": {
        "id": "MuooJYga7jLX"
      }
    },
    {
      "cell_type": "code",
      "source": [
        "set.seed(123)\n",
        "height <- round(rnorm(100, mean = 172, sd = 10), 1)\n",
        "\n",
        "height"
      ],
      "metadata": {
        "colab": {
          "base_uri": "https://localhost:8080/",
          "height": 69
        },
        "id": "xoeocrjT7YJA",
        "outputId": "a1113da7-d5e0-4a2a-9ab3-3c09acc70ea0"
      },
      "execution_count": null,
      "outputs": [
        {
          "output_type": "display_data",
          "data": {
            "text/html": [
              "<style>\n",
              ".list-inline {list-style: none; margin:0; padding: 0}\n",
              ".list-inline>li {display: inline-block}\n",
              ".list-inline>li:not(:last-child)::after {content: \"\\00b7\"; padding: 0 .5ex}\n",
              "</style>\n",
              "<ol class=list-inline><li>166.4</li><li>169.7</li><li>187.6</li><li>172.7</li><li>173.3</li><li>189.2</li><li>176.6</li><li>159.3</li><li>165.1</li><li>167.5</li><li>184.2</li><li>175.6</li><li>176</li><li>173.1</li><li>166.4</li><li>189.9</li><li>177</li><li>152.3</li><li>179</li><li>167.3</li><li>161.3</li><li>169.8</li><li>161.7</li><li>164.7</li><li>165.7</li><li>155.1</li><li>180.4</li><li>173.5</li><li>160.6</li><li>184.5</li><li>176.3</li><li>169</li><li>181</li><li>180.8</li><li>180.2</li><li>178.9</li><li>177.5</li><li>171.4</li><li>168.9</li><li>168.2</li><li>165.1</li><li>169.9</li><li>159.3</li><li>193.7</li><li>184.1</li><li>160.8</li><li>168</li><li>167.3</li><li>179.8</li><li>171.2</li><li>174.5</li><li>171.7</li><li>171.6</li><li>185.7</li><li>169.7</li><li>187.2</li><li>156.5</li><li>177.8</li><li>173.2</li><li>174.2</li><li>175.8</li><li>167</li><li>168.7</li><li>161.8</li><li>161.3</li><li>175</li><li>176.5</li><li>172.5</li><li>181.2</li><li>192.5</li><li>167.1</li><li>148.9</li><li>182.1</li><li>164.9</li><li>165.1</li><li>182.3</li><li>169.2</li><li>159.8</li><li>173.8</li><li>170.6</li><li>172.1</li><li>175.9</li><li>168.3</li><li>178.4</li><li>169.8</li><li>175.3</li><li>183</li><li>176.4</li><li>168.7</li><li>183.5</li><li>181.9</li><li>177.5</li><li>174.4</li><li>165.7</li><li>185.6</li><li>166</li><li>193.9</li><li>187.3</li><li>169.6</li><li>161.7</li></ol>\n"
            ],
            "text/markdown": "1. 166.4\n2. 169.7\n3. 187.6\n4. 172.7\n5. 173.3\n6. 189.2\n7. 176.6\n8. 159.3\n9. 165.1\n10. 167.5\n11. 184.2\n12. 175.6\n13. 176\n14. 173.1\n15. 166.4\n16. 189.9\n17. 177\n18. 152.3\n19. 179\n20. 167.3\n21. 161.3\n22. 169.8\n23. 161.7\n24. 164.7\n25. 165.7\n26. 155.1\n27. 180.4\n28. 173.5\n29. 160.6\n30. 184.5\n31. 176.3\n32. 169\n33. 181\n34. 180.8\n35. 180.2\n36. 178.9\n37. 177.5\n38. 171.4\n39. 168.9\n40. 168.2\n41. 165.1\n42. 169.9\n43. 159.3\n44. 193.7\n45. 184.1\n46. 160.8\n47. 168\n48. 167.3\n49. 179.8\n50. 171.2\n51. 174.5\n52. 171.7\n53. 171.6\n54. 185.7\n55. 169.7\n56. 187.2\n57. 156.5\n58. 177.8\n59. 173.2\n60. 174.2\n61. 175.8\n62. 167\n63. 168.7\n64. 161.8\n65. 161.3\n66. 175\n67. 176.5\n68. 172.5\n69. 181.2\n70. 192.5\n71. 167.1\n72. 148.9\n73. 182.1\n74. 164.9\n75. 165.1\n76. 182.3\n77. 169.2\n78. 159.8\n79. 173.8\n80. 170.6\n81. 172.1\n82. 175.9\n83. 168.3\n84. 178.4\n85. 169.8\n86. 175.3\n87. 183\n88. 176.4\n89. 168.7\n90. 183.5\n91. 181.9\n92. 177.5\n93. 174.4\n94. 165.7\n95. 185.6\n96. 166\n97. 193.9\n98. 187.3\n99. 169.6\n100. 161.7\n\n\n",
            "text/latex": "\\begin{enumerate*}\n\\item 166.4\n\\item 169.7\n\\item 187.6\n\\item 172.7\n\\item 173.3\n\\item 189.2\n\\item 176.6\n\\item 159.3\n\\item 165.1\n\\item 167.5\n\\item 184.2\n\\item 175.6\n\\item 176\n\\item 173.1\n\\item 166.4\n\\item 189.9\n\\item 177\n\\item 152.3\n\\item 179\n\\item 167.3\n\\item 161.3\n\\item 169.8\n\\item 161.7\n\\item 164.7\n\\item 165.7\n\\item 155.1\n\\item 180.4\n\\item 173.5\n\\item 160.6\n\\item 184.5\n\\item 176.3\n\\item 169\n\\item 181\n\\item 180.8\n\\item 180.2\n\\item 178.9\n\\item 177.5\n\\item 171.4\n\\item 168.9\n\\item 168.2\n\\item 165.1\n\\item 169.9\n\\item 159.3\n\\item 193.7\n\\item 184.1\n\\item 160.8\n\\item 168\n\\item 167.3\n\\item 179.8\n\\item 171.2\n\\item 174.5\n\\item 171.7\n\\item 171.6\n\\item 185.7\n\\item 169.7\n\\item 187.2\n\\item 156.5\n\\item 177.8\n\\item 173.2\n\\item 174.2\n\\item 175.8\n\\item 167\n\\item 168.7\n\\item 161.8\n\\item 161.3\n\\item 175\n\\item 176.5\n\\item 172.5\n\\item 181.2\n\\item 192.5\n\\item 167.1\n\\item 148.9\n\\item 182.1\n\\item 164.9\n\\item 165.1\n\\item 182.3\n\\item 169.2\n\\item 159.8\n\\item 173.8\n\\item 170.6\n\\item 172.1\n\\item 175.9\n\\item 168.3\n\\item 178.4\n\\item 169.8\n\\item 175.3\n\\item 183\n\\item 176.4\n\\item 168.7\n\\item 183.5\n\\item 181.9\n\\item 177.5\n\\item 174.4\n\\item 165.7\n\\item 185.6\n\\item 166\n\\item 193.9\n\\item 187.3\n\\item 169.6\n\\item 161.7\n\\end{enumerate*}\n",
            "text/plain": [
              "  [1] 166.4 169.7 187.6 172.7 173.3 189.2 176.6 159.3 165.1 167.5 184.2 175.6\n",
              " [13] 176.0 173.1 166.4 189.9 177.0 152.3 179.0 167.3 161.3 169.8 161.7 164.7\n",
              " [25] 165.7 155.1 180.4 173.5 160.6 184.5 176.3 169.0 181.0 180.8 180.2 178.9\n",
              " [37] 177.5 171.4 168.9 168.2 165.1 169.9 159.3 193.7 184.1 160.8 168.0 167.3\n",
              " [49] 179.8 171.2 174.5 171.7 171.6 185.7 169.7 187.2 156.5 177.8 173.2 174.2\n",
              " [61] 175.8 167.0 168.7 161.8 161.3 175.0 176.5 172.5 181.2 192.5 167.1 148.9\n",
              " [73] 182.1 164.9 165.1 182.3 169.2 159.8 173.8 170.6 172.1 175.9 168.3 178.4\n",
              " [85] 169.8 175.3 183.0 176.4 168.7 183.5 181.9 177.5 174.4 165.7 185.6 166.0\n",
              " [97] 193.9 187.3 169.6 161.7"
            ]
          },
          "metadata": {}
        }
      ]
    }
  ]
}