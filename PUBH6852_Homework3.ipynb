{
  "nbformat": 4,
  "nbformat_minor": 0,
  "metadata": {
    "colab": {
      "provenance": [],
      "toc_visible": true,
      "authorship_tag": "ABX9TyNmZrSWIbND3sGR7g31siyp",
      "include_colab_link": true
    },
    "kernelspec": {
      "name": "python3",
      "display_name": "Python 3"
    },
    "language_info": {
      "name": "python"
    }
  },
  "cells": [
    {
      "cell_type": "markdown",
      "metadata": {
        "id": "view-in-github",
        "colab_type": "text"
      },
      "source": [
        "<a href=\"https://colab.research.google.com/github/ehsung/PUBH6851/blob/main/PUBH6852_Homework3.ipynb\" target=\"_parent\"><img src=\"https://colab.research.google.com/assets/colab-badge.svg\" alt=\"Open In Colab\"/></a>"
      ]
    },
    {
      "cell_type": "markdown",
      "source": [
        "# PUBH6852 -- Homework3\n",
        "## Completed by Edward Sung\n",
        "## 11/24/24"
      ],
      "metadata": {
        "id": "kwdDydYIsmNa"
      }
    },
    {
      "cell_type": "markdown",
      "source": [
        "# Table of Contents\n",
        "\n",
        ">[Problem 3.1](#updateTitle=true&folderId=1r-g8wJfeKaGd9a8yLWY3NoKaegmzbrzB&scrollTo=ZdZcE-tosw_7)\n",
        "\n",
        ">[Problem 3.2](#updateTitle=true&folderId=1r-g8wJfeKaGd9a8yLWY3NoKaegmzbrzB&scrollTo=1bvwK4o7tBCK)\n",
        "\n",
        ">[Problem 3.3](#updateTitle=true&folderId=1r-g8wJfeKaGd9a8yLWY3NoKaegmzbrzB&scrollTo=xhrPot6MvPR6)\n",
        "\n",
        ">[Problem 3.4](#updateTitle=true&folderId=1r-g8wJfeKaGd9a8yLWY3NoKaegmzbrzB&scrollTo=5nDpFdOQxdRk)\n",
        "\n",
        ">[Problem 3.5](#updateTitle=true&folderId=1r-g8wJfeKaGd9a8yLWY3NoKaegmzbrzB&scrollTo=o7hODN6s3YX6)\n",
        "\n",
        ">[Problem 3.6](#updateTitle=true&folderId=1r-g8wJfeKaGd9a8yLWY3NoKaegmzbrzB&scrollTo=gqnfJVfE9cRs)\n",
        "\n"
      ],
      "metadata": {
        "colab_type": "toc",
        "id": "NsfkKLIwAI4D"
      }
    },
    {
      "cell_type": "markdown",
      "source": [
        "# Problem 3.1"
      ],
      "metadata": {
        "id": "ZdZcE-tosw_7"
      }
    },
    {
      "cell_type": "code",
      "execution_count": 70,
      "metadata": {
        "colab": {
          "base_uri": "https://localhost:8080/"
        },
        "id": "zdU37DrKsiiv",
        "outputId": "75dd0724-df74-4e74-e3bb-3f650a647a09"
      },
      "outputs": [
        {
          "output_type": "stream",
          "name": "stdout",
          "text": [
            "Original Prompt return\n",
            "[0, 2, 4, 6, 8]\n",
            "[0, 1, 4, 9, 16]\n",
            "\n",
            "List comprehension modified return:\n",
            "[0, 2, 4, 6, 8]\n",
            "[0, 1, 4, 9, 16]\n",
            "\n",
            "Is 2 even? True\n",
            "Is 3 even? False\n"
          ]
        }
      ],
      "source": [
        "# Problem 3.1\n",
        "\n",
        "# Question 1: Rewrite as list comprehension\n",
        "'''\n",
        "Utilized [] to write a list comprehension.\n",
        "The returned answers are the same.\n",
        "'''\n",
        "print(\"Original Prompt return\")\n",
        "print(  list(filter(lambda x: x%2==0, range(10))) )\n",
        "print(  list(map(lambda x: x**2, range(5))) )\n",
        "\n",
        "print()\n",
        "\n",
        "print(\"List comprehension modified return:\")\n",
        "print(  [x for x in range(10) if x % 2 == 0]  )\n",
        "print(  [x**2 for x in range(5)]  )\n",
        "\n",
        "print()\n",
        "\n",
        "# Question 2: Rewrite into function\n",
        "'''\n",
        "Used 'def' keyword to define the function.\n",
        "Returns true if Even, else returns False.\n",
        "'''\n",
        "# lambda x: x % 2 == 0\n",
        "def IsEven(x):\n",
        "  return x%2==0\n",
        "\n",
        "print(\"Is 2 even?\",  IsEven(2) )\n",
        "print(\"Is 3 even?\",  IsEven(3) )"
      ]
    },
    {
      "cell_type": "markdown",
      "source": [
        "# Problem 3.2"
      ],
      "metadata": {
        "id": "1bvwK4o7tBCK"
      }
    },
    {
      "cell_type": "code",
      "source": [
        "# Problem 3.2\n",
        "'''\n",
        "A palindromic string is a string that reads the same from left to\n",
        "right, and from right to left.\n",
        "This function finds all palindromic substrings of a given\n",
        "length L in a given string S, and returns them as a list.\n",
        "'''\n",
        "def FindPalindromes(S, L):\n",
        "  palindromes = []\n",
        "\n",
        "  for i in range(len(S) - L + 1):\n",
        "    substring = S[i:i + L]\n",
        "    if substring == substring[::-1]:\n",
        "      palindromes.append(substring)\n",
        "  return palindromes\n",
        "\n",
        "\n",
        "InputSequence=\"GCCACAAGTGCCAAACGGGCACGGTCATCGGAGCAGATGAGTTGACAGAAATATTCCGGCGGCAACTGCGTTGGAAGCTTAAGCCTTTGTGTCACTCCTTGATGACTCCGTCACATGAGTCCAGACCGTAAACTTATAGATTATGACGAATGACCAGCAACTTTAGGGGTTCGTAGTGCTTTCGGATCTCAAAACCATTCTCTAGAGCCTCTTGTCATAGGGGCCAGCAACGTCATCGCGGTATTTATTGAAGAGAGATGGCATCACAGTGCCGTAACACGACCGCTTGAAAATGCCCCTTGCCACTAAACGACTTACCTCGACCATAGTCATGTGAGGCCCCTTATTCCTGGGTTGACCACTCGAGCCGCATGGGTGAGCTACTTGTACCATCTCCACGTGTCCAATCAAACCCCTCCCAATTTGGCTTGTGGCTGTGCGACGTCTTGTCAAAAAGACCGTGTACCAAACCACTATTCCGAAGTTTTTACACCTTACCTTTAATCTGAATAACACTACAGCCAAAGCGTCCAGGCCGGAGAGTTCCATGTAAGTGACGCATCTGGGTCAATCCATGATTAGCCTTGAATTTGGGGCGTAAAGCAATGGCTGCCCCTGCCTCGAGGTCTATTTCAACAGTCAGCCGGGACTTCGACACATATTTTCATAGTTGCCTAGTTCCGGGCCCATGATGGCAGGGAGTAGTGTCGCTAAACGATACAGGTGCGTGTTGCCGAGATGATCCGCTCAGCCCGCTGATCCACAATTATGTCCGGATGTTATGCTACCGGCCCCTCCTGCAGGTCCTGAACAGATACTCGCACCATCTTGATACGAACGAGTGTACCATGTCCCCAGCAATACTGGCAAATTAATGGTGTGGAGCAGGGTGGGGGGACAGTAATAAAGACGCCTCGCGAGGTGGAATGCCGGTGTCGGCATTTAAGCACCGCATTTTCTTTACGGGAGTTCTCTAGGTCGTTTAAACCGTGTTTGAGTAGTAACTACCTGATTATTCCCAGAGTTATTCAGCAGGAGCGGTGTTCTCCTTCGGAGGGGTTGCTGTTGGGTTAAACTATGTGCGGACATCTCACGGGGGGAAATCAAACAGTGAAAGCCGTCATCCAATTAAACTCGAGGGCATCGGGACCGTTATGTATTGTGCTCCTGAATACCAGTGAGTCCCAAGAAGAGAGGATGCTTTCAAATCCCAGAGTTGAGGAGGCTTGGCGAAATAAGCATCTGTTGGCTTGACTGTCCTCGTATGCCGCCAAGGGCTATCTGACCGCGGTGATCAATCTGTTTTCTAATGCCCCAGCAATCTTCCGATACCACACTAAGAACTTATGTTATAGCGGTGATCCATCCCGGGAATTCGGGCTGAAGTTCTCTTCAACGGGGCCCTCCAGGTGAAAACCACGTGCTCTAGTGTCTTCAACCAGTCTTAGGTTCCGATGATCGAGTTCCCCGGACAGTGACCCGCCAAGGTTTTTCAGGAAGAAGCAACGTTTCGCGCCCCACTTTCACCCCCTAATGCGTATAGCCCCCATTAATTTACGGTGCTTCTACGAGGAATTTAGACCTACATTCCAATATCAATTTCTCGGGGGATTTCATGCAGCCCGCACAACCCACTAGACTATCACCACGGGAGAGGATATCGCCGGGGAAGTCACTCTGGAAGTTAAACCCAGAATGATAAATGGTACGGAACCGGAACGCTTGCGACCTTATGTCCTGATTCCCTAGCTACTCAAACACTCGTCCGCTGGGGATTGCGGCTTCTGTATGTGCGTTCCCGTATGAAAGGCTGTTCGGATGTGGGATCGGTTCCCGGACTGCTCCGGGTCTTTTCAAACAATTCGGGCCAACGGTACTTAATTAGTTCGCGCATCCGATGCGCGCCTCACGAGCGCTCACTATGAATTTTGTCAGAAAAATTTACTCGAGTAGGGTACCTTCCGGGGACCGACAGGGACGTAATGCAAGATGAGAGTCTCCTACATCTAACGATGCCAGCTCCACTTATTTACGGATCCAAATCGCCTCTGCGGGCACTATTCGTGGTCAGAGATAGTTGATGGTGACATCACAGTGACAAGTCCGCGCACGAGCGAAAAAGCTCCCTTTCGTTCAACAAATATGTGTATTAAGATTCGTACCTCAAGTAGTAAGACCCTTCTCGCAAGACAGTGCGCCCGGATGGCGACAGGCCTTAATGAGGTCTATATGTTAGTCTAGCTTTTGTGACCTAGTAGGATAACGCGTCCTAATGAGCATTTCACCCATGGGTGGCGTGCGCTTGTTTGCTGGAAATTCTTAATGTTAATAGCTCTTAGCGATAGATGTGTCCGTTATGATATTGACTCCCAGTTTCGTCCGAAACTACATGTTTTCGGCCTCGGGGAACGCTCCCGTCAAATAACGTCTCGCCTAGAGTCGACGAGAGAATCTAGCAACGCATTTAGGTTGTGGCGTTCTATTAACTGGACAAGATCGTTACAGATCAGACCTGAGAGATTAGATGTTGATACGTCACAGACTATAGAAGTAGTGAATGTAGAGCGAGTGATGTCTCTCCGTCCCTGGAGTACCTGGATGATGAACTGCATCGTTATGTCCTAAAGCAGTCTTCAAACCTAGGAATTTAAATGAGCACCAGACTGTTTCCGGAGTGGACCCGGAGACGGAAGGGTTCTCTATGTCCCATTAAAAGCGCGGTCATCAACAAATGATTGGTGGCTTATCGGAAGCCATTTGTCCCTAAATCGTTACGTACCGACGAGCTCGAGCAGGCAAGTTCTCCGGTGTATGTTTGACCTTGTCATTAACGTTTAATAGTTTACCACTTTCTGTGCAGGTTTACAGTTGGACCGAATGACTTTTACCCTTAGTTAGAGATCTTCCGATAGAAGCCGTGTCCACGTAATTTGCTTTTTTTCTACAAGAATCAGGCCTTCAGATTCATAAGCCGGACTAGTATAGAGTAACACTAAGTGTCAATCCCGTTAGTGGCCCCTTCGAGAGTTGACCCGCCTCGTGACCTTGTAGCTCGATATCGTCGCAGAGCGCCTTAAATCGCTTGCTAACAACCTCGCACGGTTCTTCCTTCCTGCAAGGATTACTCCGATGAGCTAGCTTTACTGATGCAAGCCGCCGATACATCCCGCGTGCTGCTACTGGCCGGTCAGATGGGAGAGGGGCCGCCGATCATTGTCTGGCGCCTAGGGAGGGAGCCCTAGCTCGTGTTATATACGATTTTCATACCCCTCGCACGTTACCGTATGGAACAGGGGTCGCGGATGGTAGATTGATTGACGAGGTAACATGACCACGGCATTCTAACAGGCGCCACTACTTCACCCCACCTGGTAGCAAACGGGAAGCCAGGGTGCAGGACTGGTAATGTGCTGACCGGGACAAACCAATCCGTAAGTAGTTCAGGCCACTACCGACCTGGAATTGAGAACCTGTTTGCCCTGGCAAGTTCGCCTCTAGACGTCCTAGACGAATCCGACTCCGTAACGAGGATAAGCCTAAGTACGCGGTAAAAAGTACTCGGAGGAAGGAGGTCTCTACCCAAGACCTATACTCGGGGACAGTTGGATGGACCCATGTCAACTACTGATACGCAAAATAATGCCCACGCACATCAGACCGGTATATTCGCGAGGAGAGATGGTGGCAGGATGGGACTTGCTGCGAAACCAGGACATAATCAGAGTCCTTGTTATCGGACAAGGTGTATACGTATCGTTGGGCTGTCGGGGCGCAATGCCCGAGATATGCGAGCCAAGTCGTTAGGTTCTTATCAACGATTTACTCCTCGCGTAACGACAAGTCTCCACCCTGCTCGGGCGCCAGAAGACTTGAATTTAACATCCGAGATTAAGTGTGTGGCTGTTAGCCGCTATGGGGCGTTTCTAACCGTTGCGCTAGTAAATACCTTGTTTACCCTACGAGTGAGGAGCGCATGCAGCTGCTATGGAGTAGGGCGAACACCCAATCCAGACTGCACTCCGCAACTCCGCAGCCCTCGATGATGGTATAAACGCACACTTCTACACTCCGGTATGTCACATGCAGGGGATGCGGCCCCAACCCCGGTCTCCTTTTTTATTTATACGCCGGTGATCGAGAAGGTATACACGAAGTTGCGTGACTGCGCCCCGCAACACTCCCAATCTGTGTTTCATGATCTTGTTGTGGCCAACCCAACGGCCTGTAGAAGGCGATTAGCCCTCTTTTCTAGAAGATTAGGGAATGCTCAATAGAATTCAAAGTGCTCTCAGTGACAACAGTGATTCCCTGCGTATGATGACCATACCGCCGGTGGGTAAGTGTAGACGGGCATAACCATGTTAATCATCGTACATCGTTCACGTTTCAGGCCTACCTTTACTGCGGCGATTTGGTTTCTTTTAACATCGCTCTAACCGGCGTTCGGGTAGATCAGGGCGGCAGCGTCAGACACGTTCTGCAAAGCCAACCTCTCCTATCAGGTAGAGTTTTCAAACTCGGCTTTGGTAAAGCAAAAAAGGCCAACTTCTAATTAACTGCTTCGCGCTTGGCCTGTAATCGTCTTGATTAACTTTGATACCGTATTCTCCTCAAAGCTTATAATCTACCCGACCGCAGCATAAACCCCGAGACTAGGCCACAGTAGCTAAAGGCTGAGTCGCTATCTCCAGGGCGTGGCACGAAAACAGGCTCCTTTTATACCGTGTTATTGTGCCCGACTGTTTCTTTTGCCGGAAACATAGCCCAGAAGGCATTCACGGTGAAGTCCCAAATGACCGCCGACCGCGATTTCGTTTGCCTACCCACGGGTAACGCTACACTTCGAAGTCCATTACAGATGTCAAAGCTCATCTGCTCCAAACCGGAGCCGGTGCTCCCTCAAATGGACACAAGTGTCAAATGTTACGGCTCAAGCGCAACTTGATATTCCTCTTAACGTTCGGGCGAATCGGTAGGCAACCACTATAACCCCACAAACTCGTACCATTCCGGCCCTCCGGGTTTTAATCAACGCTAACCTTGTGCACTCGCAAAGATAGAATTTGTCCGTAAAGATGCTAATATAACTCGTCAACATGCTCCAATGATGAGGTCATCGTGTGATGACCACTGTACCAAGCCACTGATGTGTACGTGGTGGCAAGTCTATGGATCAACGAATAGATAAACGCTTCTGTCTAGGCTAAGAACATCTATAGCTGACCTAGAGTCTTATTTAGCGTTAATAGGTCGTTACAGGTCTATAGTGGATCATAGCATAACATTTTTCAACGTGCGGAAATGTTTTTCCCCATCACTTGGCGTCGAATACCGCTCAAGTTCCCCAGTCACCTGGAGCGCTTTGAACCTCGCCCAGTGATCGTGGCCCATCGCTTTTGAGGTGTAGACCGGCTTCTCGTTGGACCCAGGGATGCTACTCACGATAAAGCGGGAGTGATCATCCTCTTCCTAGTGTGCCTAACTGACTCAAGATTTTCGCCCGGGCAGGCACGAGTGACATACGAGTAATGTCACCTCTTGGACTTTAATGAGCTTTTAATGATAATTCTGGGTTCGAAGCTGAGCAACCATAGCTTCCCGCATTATTCGGCACGCTACACCCCGCAGCTAGCTTCGGGGATCCGCGATACTCTAGAGAATCTGCCCGTTTTTGGTACAACCGGTTTGCCCATAGTCGCTCTTTAATCTGAAGAAATTTTCGAACCCTGCAAAGCCAGGAGTTCGAATGACTCTCCCCGTCTTGATCACATAAACCCTTTCGTCTTCACACCACAAATCATGCTGCGATCTGGGACTCTGCTCACTGATAAGAGCGGGTTCAACGAGGCCCTGTAGACGCGTGATACAGAAGCTTTTAAATTCTCGCCCTTGGTGGCGCAGGAATCCACGAGTCGCCGCCGGAACCGTCGAAACACCGGTAGAACAGTTAATTCGCTGCGATCGCGACTTCGTAGGTATTTATACTACATCGTCGCCGACAGAGTCCGTAATGCTTCCATATGCACACCTAGTGAGACAAACCATTTTGTACTCCCTCGGGAGGGACGAGCAAGTATAACATAAAGGCTCAGCCCCGACACTACTCGCGCGCGAGGGCCAACAATTGCGGGCTTGCAGACTGCTTAATGATATGACTACCCGGCCGTCGGGGAAGGAACCAATGCGTTGCCGTGACCATGTTGTCAAGCATCAATGCAGTTTGTCCTGGAGAAAACATAAACTGATCGGAATCTATCTGGCTTTCGCAATCGAATGTTCCTGCATAAGTTACAAGCTTTAGTCATACGAAGGTGAAATACGGAAAAGGGGACAAACCGCGAAAATGTCAGTTGTGCCGTGCTGAAACCAGGGAGGGGTCTTGGGAATTAGCTGTTAGCGAAGGAGATGGAGGCGTAGCTCTGACGGGTTTATGGTTCAGGTAACACCCCGCCCTGGCTAACGAGATAGGGCTACTAACGCTAAGTGCTTGGGTGACCCTTAAGCGAAGGTCCCACATCCATATATCACACACGGTCTACTCTTAAGTTCGCCCGCGAGTGTGACCCAAATCCACCAAGCTTAACGACACGCACAAGGGCACATCGACATAGTAATCGAGGTCCGGTGCGAACTTTTCTCGAAACAGCTGGTGCGCCCAAAGTCCCCGCTGCTACCAGATTGGCAATGTGAGATATTCATGTTAGTCTTCCCCTGCGAGGTTGCTTAATATGGTGCCGTGATCGAACAACACTCCTGATATATCCTGTTAGGGGGTATATACCAAAATTACCATAAGCGCACAGTTTGTAGATATCCCGTCGTACTCTCTGTAGTGATGCTGCTAGCTATCCGTATTCAGCCGTGCGTTGGATGATGGACGAGAATATAGAACCGGCGGTGGGACATTTAGAATACTGTACCGGAGTCAGAATTGAATGCGTACAACGGACTTTATATGGTTCGTGCCCGAGTGTGCTTAGTAGGCTATTTCCCTAATGGAGCAAGCGATTATCTTCGCAAACTCCATCGGTCCGCTACCCCTTACCGTCTTGCAGTAAAAACAAGTTGAGCCCTCGGTGGGATGACAAGCCCTACCGGCTTCGCCAATCCCCCCAGTAAACGCCTAATTGGCGCGGGGCAGCCAAGGCGGTGATGTAGCTTGTTTAGTGGCATATACGTTGATAGCACCTGGGCTAAACCAAGAGTCCTCGAACCCACGTCGACTGACGTGTTGGGGTGTCTGGGCGAATTCAACACGATAAGTGATAACGTCTTACTCTGGCATGAGCCCCAGGCAGTCCGTTCGCGGATGAGCCTGTACATATGCATTCCCCCTCCGGCTAGAAGGAGTCTTACCTACGACTGCGACGGGGTACTGGGCGATATGTCTCAATGCGGATGACAGCCGCAGATGCACCATCTGCACGTAAGACCAAGCTCGGCGTCTCTTTGGGGATAGACAGAACCGGGATGATGGTGATGGATTTTCGCTAGTCCCAGGATGTGCTACATCGTGGAAGTCCTCATGAGAAATTTTTAAAGCCCGGTTCGCGCGGTTCCCAGCGTACCGCGCCTTTATATGTCTTTGACTAGTGGGTGTTGTATAAAAGAACTCCTCACAAGACGTCTGTGACCGAGACCACGTGACACTTACTGCACCATGACTTTATACCTTGGGGCGCATGTTTCTTGTCATTTGCTGGATTTAACCAGAGCAAGGTTTGGGTTTATGGCTGTAGTATCATCGGTGGCGATGTGCGCTGCGTCCTATGCACGGCTGATTCGACTTGATTAGTATATGTCATAAAGTAAGCGCAGCAATGTGCAAATCTAGCTTAGAGCTGTACTCAGGTCCGAAGGGCCCGGACAATAGTGATTGGGGTACCAAGTAACTAGACGACCACGACAACCGGTTGATCTGCTAGAGGAAGCGGCTAGTACTGTCCTTATTCACAAGAAGGATTTATGTATACTAAACCGCTAACCTTACTTACCGCTCCTCTTCATCTACACCACACCGAGACCCATTCCGCCAGTGCGGGTTTCATGCGCGTAGCCCTACCACGACGGGTTAGAGCGTAGCGGTAATGGGTCTTCGGATGCGGAATTATCCTCTTCATTGGTCTGTGATCCTAGCTGGGAGGCCAGTGGGTGGTAGGGCAACGGCCTCTTAACCCTTGCTATCTCGTCTACACGAGACCGGTAAAGCTGATACTACTAGAAATTCTGTCATTGCCCTAGACCACTCCTTTGCTCATCGATCACAATGGGCGATCGCGTCACAGAAATCAAGTGCGTTCATTATGGGTGCAGCGAATGTAACATGTTCGCATTACCTAGCGCAGCACCTCTGGCACGCTCGTCTTCGACCCACCCGCACGATTTCAAAATTATTCCGTGGGCCTTAGAAAATGTCCCTCAAACGAGTAGACTGTGGATTTTTTCTGGTGGCGGCTGTTGAGCGGCTACAGATAATTAAATGTTAGTGGGTGTGTCTTATGTGCTCTGACACTTCAAGACTAGCGTGTATGATCTAGGCATGTACCGTAGGGAAGGAAATGTAGCTCCAAGGGCGTCAGATGCGGTTCACGTACCCATCACGAATCGGGCGTTTCTTGCCTGGGTGTGGGGCTTATAGGGTTGTCCAAGGGAAAGTCGGTCAGACGCCTAATTACGCGTGAATCGCAGCCAATGCAGAGTCAATCGGGCGGTCGAGAAGGGACGGTGTTCGCGTGTTGTGGTACGACACCTACGGGGCAGATGCCAACCTTGCTAACCATTCCGCGCGGCCAATTCTCAGACAGTGGAGCGGCTCGAGCTTCCTACACTGACAAATCTTCGCACGTTGATTAGACATGCGATACACGCCACTCAGTTTGGTATGTATGAGTAGGGAAGCTAGGTACAGACGAGATCAGTACCTGTACCAATAGGCTCTACAGCTCGAAGTTACCCTTGTTGGAGATGAAATCACGACGTACCCACGTTAAATCTCGCTGACTTTCAAGCGCGAGGTCCTCAAGTCGAAACCCAACCAACCAAGAGCGAATTCCGGCATCCCGGTCAGATTGCTGCCTTTGTCAGATTTGTGGTGATAGTCTAGGCCTAATTCAAGCTTCGCGCCCACAGGATTCAGATTTCCAGCGGACATGCAGAGAGGTCCCTGCCGCAAGGACCCAAATGAAACAATGGTAGGTGACAAGGAGGAAGTAGTGCCGGCTATATCATAACGCTAATTTGCTACATATCGACTTAACTGTGGTTATGACTGTGGCCGACGAAGTGGCTTACCGATATTGATACAGCTCACTATAAATTAAGATCATGCAGGCCCGCGGGTAGAACCGAGGAACGCCGGGAACAATGGATTGGACCGGATTTAGGAACCTAACGGGGCTTGGAGACTTTGGTAGATATTGTGGGCTCGTCAACGAGGGCGGCATGTGCCCCCCGTGAGTCTGAACCGTCACAAGTTGACAAAATAGGACCGTTACCCTAACATTGGGCCGTGCCCACTACAACAATAGCCCAACCAATACGGACGACGAGCTATTCTGGACTAGTGACGGTTTAGCACCTTACCGAGAAACACTAAACCAACACGGTGGTAATCGCGCCATCCTTAACCTACTCACGGAAGACAGAAAAAGACTTTACACGATGCCTGCCTGAACACCGATTATTTATAAGGAACTCCTTGCGAGCCGGTAGTTTATATCTCTCTTTCACTTGGAGCCCGCGAGTTCAAGCAAGAAGTTAATTCGTTGAGGTCAAAAATATACATAGATGCGTCGTCGACGCGCGATTTAACATGATAACGCACATTGCTGCACTTGCCCATACACAGCCGGGGGATCTCAATGCACCTATCATAGTGAGTCGCTCGTTAAACATGCACCTAATGATTTCGCAGGCGTCCAGGAATAGGAGTCATCAAAGAACCCGGATAGTGTTACTGAACGAATTGTGCCCTTACTTTGGGAAGTCTAGGAGTAAAAGCGCACTCGTCCTCATTGCCGGCATT\"\n",
        "Substring_length = 9\n",
        "\n",
        "print(FindPalindromes(InputSequence, Substring_length))\n",
        "print(\"There are\", len(FindPalindromes(InputSequence, Substring_length)), \"palindromes with substring length of\", Substring_length)"
      ],
      "metadata": {
        "colab": {
          "base_uri": "https://localhost:8080/"
        },
        "id": "8edr9bM3tB4A",
        "outputId": "58a25902-5082-4f1d-bb24-1130c2a1b39c"
      },
      "execution_count": 71,
      "outputs": [
        {
          "output_type": "stream",
          "name": "stdout",
          "text": [
            "['CCTTATTCC', 'ACCAAACCA', 'TTATGTATT', 'CACTTTCAC', 'ACAGTGACA', 'CGAAAAAGC', 'TATGTGTAT', 'AATTCTTAA', 'GAGCTCGAG', 'CTTTTTTTC', 'TAGCTCGAT', 'AGCCGCCGA', 'GGGAGAGGG', 'AGGGAGGGA', 'GGCTGTCGG', 'CAACCCAAC', 'TTCGCGCTT', 'GCTGAGTCG', 'TGTTATTGT', 'AAGATAGAA', 'AATAGATAA', 'GGACCCAGG', 'ACACGCACA', 'GTAGTGATG', 'GCATATACG', 'GCTACATCG', 'AATTTTTAA', 'TTTGGGTTT', 'ATGCGCGTA', 'GGGTGTGGG', 'GTATGTATG', 'AAGGAGGAA', 'GGATTTAGG', 'AAGACAGAA', 'AGAAAAAGA']\n",
            "There are 35 palindromes with substring length of 9\n"
          ]
        }
      ]
    },
    {
      "cell_type": "markdown",
      "source": [
        "# Problem 3.3"
      ],
      "metadata": {
        "id": "xhrPot6MvPR6"
      }
    },
    {
      "cell_type": "code",
      "source": [
        "# Problem 3.3\n",
        "'''\n",
        "Uses the 'random' python package to generate random numbers between 1-100.\n",
        "User is prompted to guess a number between 1 and 100 using integers.\n",
        "It returns too large or too small until user types in the correct number.\n",
        "'''\n",
        "\n",
        "import random\n",
        "\n",
        "def guessing_game():\n",
        "  secret_number = random.randint(1, 100)\n",
        "\n",
        "  print(\"I'm thinking of a number between 1 and 100. Guess what it is!\")\n",
        "\n",
        "  while True:\n",
        "    try:\n",
        "      guess = int(input(\"Guess a number: \"))\n",
        "      if guess < secret_number:\n",
        "        print(\"Too small\")\n",
        "      elif guess > secret_number:\n",
        "        print(\"Too large\")\n",
        "      else:\n",
        "        print(\"You've guessed it! The number is\", secret_number)\n",
        "        break\n",
        "\n",
        "    except ValueError:\n",
        "      print(\"Invalid input. Please enter a number.\")\n",
        "\n",
        "if __name__ == \"__main__\":\n",
        "    guessing_game()"
      ],
      "metadata": {
        "colab": {
          "base_uri": "https://localhost:8080/"
        },
        "id": "ZWB1cb5RtyAh",
        "outputId": "23a5e6ec-9425-4c1b-b518-3b8dce6ff463"
      },
      "execution_count": 72,
      "outputs": [
        {
          "output_type": "stream",
          "name": "stdout",
          "text": [
            "I'm thinking of a number between 1 and 100. Guess what it is!\n",
            "Guess a number: 50\n",
            "Too small\n",
            "Guess a number: 60\n",
            "Too small\n",
            "Guess a number: 70\n",
            "Too small\n",
            "Guess a number: 80\n",
            "Too large\n",
            "Guess a number: 75\n",
            "You've guessed it! The number is 75\n"
          ]
        }
      ]
    },
    {
      "cell_type": "markdown",
      "source": [
        "# Problem 3.4"
      ],
      "metadata": {
        "id": "5nDpFdOQxdRk"
      }
    },
    {
      "cell_type": "code",
      "source": [
        "# Problem 3.4\n",
        "\n",
        "def IsLeap(Y):\n",
        "  '''\n",
        "  If Y is divisible by 4, then move to next statement, else return False (Common Year).\n",
        "\n",
        "  Only one of these statements needs to be True for Leap Year.\n",
        "  If Y is divisible by 100, then return False (Commony Year), else return True (Leap Year).\n",
        "  If Y is divisible by 400, then return True (Leap Year), else return False (Common Year).\n",
        "  '''\n",
        "  return Y % 4 == 0 and (Y % 100 !=0 or Y % 400 == 0)\n",
        "\n",
        "\n",
        "def leap(start, stop, step=1):\n",
        "  '''\n",
        "  A generator that produces only leap years in the specified range.\n",
        "  A third argument `step` is included but not necessarily need to be defined when called.\n",
        "  If only start and stop are provided, the default step of 1 is used.\n",
        "  '''\n",
        "  for Y in range(start, stop, step):\n",
        "    if IsLeap(Y):\n",
        "      yield Y\n",
        "\n",
        "# Leap years in the 21st century\n",
        "leap_years_21st = list(leap(2001, 2101))\n",
        "num_leap_years_21st = len(leap_years_21st)\n",
        "sum_leap_years_21st = sum(leap_years_21st)\n",
        "\n",
        "print(\"Number of leap years in the 21st century:\", num_leap_years_21st)\n",
        "print(\"Sum of leap years in the 21st century:\", sum_leap_years_21st)\n",
        "\n",
        "print()\n",
        "\n",
        "# Leap years divisible by 3\n",
        "leap_years_divisible_by_3 = [year for year in leap_years_21st if year % 3 == 0]\n",
        "num_leap_years_divisible_by_3 = len(leap_years_divisible_by_3)\n",
        "sum_leap_years_divisible_by_3 = sum(leap_years_divisible_by_3)\n",
        "\n",
        "print(\"Number of leap years divisible by 3 in the 21st century:\", num_leap_years_divisible_by_3)\n",
        "print(\"Sum of leap years divisible by 3 in the 21st century:\", sum_leap_years_divisible_by_3)"
      ],
      "metadata": {
        "colab": {
          "base_uri": "https://localhost:8080/"
        },
        "id": "Z8PuUeEPxTOi",
        "outputId": "284e0964-9565-4ae5-b006-2ec1df10a777"
      },
      "execution_count": 73,
      "outputs": [
        {
          "output_type": "stream",
          "name": "stdout",
          "text": [
            "Number of leap years in the 21st century: 24\n",
            "Sum of leap years in the 21st century: 49200\n",
            "\n",
            "Number of leap years divisible by 3 in the 21st century: 8\n",
            "Sum of leap years divisible by 3 in the 21st century: 16368\n"
          ]
        }
      ]
    },
    {
      "cell_type": "markdown",
      "source": [
        "# Problem 3.5"
      ],
      "metadata": {
        "id": "o7hODN6s3YX6"
      }
    },
    {
      "cell_type": "code",
      "source": [
        "# Problem 3.5\n",
        "'''\n",
        "Load in the \"RADIOLOGY.txt\"\n",
        "Compute and print the average observation for each month.\n",
        "Also print how many months (rows) are in the file.\n",
        "'''\n",
        "\n",
        "import csv\n",
        "\n",
        "def compute_averages(file_path):\n",
        "  with open(file_path, 'r') as file:\n",
        "    reader = csv.reader(file, delimiter='\\t')\n",
        "\n",
        "    data = list(reader)\n",
        "    num_months = len(data)\n",
        "    print(\"Number of Months in file:\", num_months)\n",
        "\n",
        "    # Compute the average observation for each month\n",
        "    for month_row in data:\n",
        "      # Convert the string values to int values\n",
        "      int_conversion = [int(x) for x in month_row]\n",
        "\n",
        "      avg_obs = sum(int_conversion[1:]) / len(int_conversion[1:])\n",
        "\n",
        "      print(\"Month:\", int_conversion[0], \"Average:\", avg_obs)\n",
        "\n",
        "    return\n",
        "\n",
        "file_path = '/content/RADIOLOGY.txt'\n",
        "compute_averages(file_path)"
      ],
      "metadata": {
        "colab": {
          "base_uri": "https://localhost:8080/"
        },
        "id": "SCItOfutz9AP",
        "outputId": "4df774b0-2c82-49e2-a176-70403a046de3"
      },
      "execution_count": 74,
      "outputs": [
        {
          "output_type": "stream",
          "name": "stdout",
          "text": [
            "Number of Months in file: 31\n",
            "Month: 1 Average: 2406.75\n",
            "Month: 2 Average: 2603.0\n",
            "Month: 3 Average: 2478.25\n",
            "Month: 4 Average: 2876.0\n",
            "Month: 5 Average: 2738.25\n",
            "Month: 6 Average: 2755.75\n",
            "Month: 7 Average: 2996.25\n",
            "Month: 8 Average: 2588.0\n",
            "Month: 9 Average: 3124.5\n",
            "Month: 10 Average: 2948.75\n",
            "Month: 11 Average: 3030.75\n",
            "Month: 12 Average: 2964.25\n",
            "Month: 13 Average: 3161.5\n",
            "Month: 14 Average: 3175.75\n",
            "Month: 15 Average: 3206.25\n",
            "Month: 16 Average: 3481.75\n",
            "Month: 17 Average: 3185.25\n",
            "Month: 18 Average: 3099.5\n",
            "Month: 19 Average: 3629.25\n",
            "Month: 20 Average: 3078.0\n",
            "Month: 21 Average: 3362.0\n",
            "Month: 22 Average: 3241.75\n",
            "Month: 23 Average: 2460.25\n",
            "Month: 24 Average: 2721.75\n",
            "Month: 25 Average: 3016.5\n",
            "Month: 26 Average: 2887.5\n",
            "Month: 27 Average: 2961.5\n",
            "Month: 28 Average: 2953.5\n",
            "Month: 29 Average: 2909.0\n",
            "Month: 30 Average: 2959.25\n",
            "Month: 31 Average: 3068.0\n"
          ]
        }
      ]
    },
    {
      "cell_type": "markdown",
      "source": [
        "# Problem 3.6"
      ],
      "metadata": {
        "id": "gqnfJVfE9cRs"
      }
    },
    {
      "cell_type": "code",
      "source": [
        "# Problem 3.6\n",
        "'''\n",
        "Uses the `datetime` package for date time things in python.\"\n",
        "User inputs their birthday in MM/DD/YYYY format. If its the wrong format, it will\n",
        "error out and prompt them to use correct format.\n",
        "\n",
        "Returns the number of days from their birthday until today.\n",
        "'''\n",
        "\n",
        "import datetime\n",
        "\n",
        "def daysold():\n",
        "  while True:\n",
        "    try:\n",
        "      birth_date_str = input(\"Input date of birth: \")\n",
        "      birth_date = datetime.datetime.strptime(birth_date_str, \"%m/%d/%Y\").date()\n",
        "      break\n",
        "    except ValueError:\n",
        "      print(\"Invalid date format. Please use MM/DD/YYYY.\")\n",
        "\n",
        "  today = datetime.date.today()\n",
        "  age_in_days = (today - birth_date).days\n",
        "\n",
        "  print(\"Today's age is\", age_in_days, \"days\")\n",
        "\n",
        "if __name__ == \"__main__\":\n",
        "  daysold()"
      ],
      "metadata": {
        "colab": {
          "base_uri": "https://localhost:8080/"
        },
        "id": "7Z8hzMcJ4g1J",
        "outputId": "37318308-acc1-42d1-dccf-ac7500397481"
      },
      "execution_count": 75,
      "outputs": [
        {
          "output_type": "stream",
          "name": "stdout",
          "text": [
            "Input date of birth: 1998/01/01\n",
            "Invalid date format. Please use MM/DD/YYYY.\n",
            "Input date of birth: 01/01/1998\n",
            "Today's age is 9822 days\n"
          ]
        }
      ]
    }
  ]
}